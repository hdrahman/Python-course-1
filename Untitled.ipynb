{
  "cells": [
    {
      "metadata": {
        "trusted": true,
        "scrolled": true
      },
      "cell_type": "code",
      "source": "#This is My Hello world program.\nprint(\"hello Haamed\")",
      "execution_count": 4,
      "outputs": [
        {
          "output_type": "stream",
          "text": "hello Haamed\n",
          "name": "stdout"
        }
      ]
    },
    {
      "metadata": {
        "trusted": true
      },
      "cell_type": "code",
      "source": "print(\"After edit, Save!\")",
      "execution_count": 6,
      "outputs": [
        {
          "output_type": "stream",
          "text": "After edit, Save!\n",
          "name": "stdout"
        }
      ]
    },
    {
      "metadata": {
        "trusted": true
      },
      "cell_type": "code",
      "source": "print(\"CTRL+S to save\")",
      "execution_count": 7,
      "outputs": [
        {
          "output_type": "stream",
          "text": "CTRL+S to save\n",
          "name": "stdout"
        }
      ]
    }
  ],
  "metadata": {
    "kernelspec": {
      "name": "python3",
      "display_name": "Python 3",
      "language": "python"
    },
    "language_info": {
      "mimetype": "text/x-python",
      "nbconvert_exporter": "python",
      "name": "python",
      "pygments_lexer": "ipython3",
      "version": "3.5.4",
      "file_extension": ".py",
      "codemirror_mode": {
        "version": 3,
        "name": "ipython"
      }
    }
  },
  "nbformat": 4,
  "nbformat_minor": 1
}
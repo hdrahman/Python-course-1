{
 "cells": [
  {
   "cell_type": "code",
   "execution_count": null,
   "metadata": {},
   "outputs": [
    {
     "name": "stdout",
     "output_type": "stream",
     "text": [
      "Enter the week number: 1\n",
      "Enter a temperature: 15\n",
      "Enter a temperature: 14\n",
      "Enter a temperature: 18\n",
      "Enter a temperature: 13\n",
      "Enter a temperature: 14\n",
      "Average Temp was 14.8\n"
     ]
    }
   ],
   "source": [
    "#1-Write a program that asks the user for 5 temperatures for 3 weeks\n",
    "for i in range(3):\n",
    "    week_num = int(input(\"Enter the week number: \"))\n",
    "    total_temp = 0\n",
    "    for i in range(5):\n",
    "        temp = int(input(\"Enter a temperature: \"))\n",
    "        total_temp += temp\n",
    "    average = total_temp/5\n",
    "    print(\"Average Temp was\", average)\n",
    "\n"
   ]
  },
  {
   "cell_type": "code",
   "execution_count": null,
   "metadata": {},
   "outputs": [],
   "source": []
  }
 ],
 "metadata": {
  "kernelspec": {
   "display_name": "Python 3",
   "language": "python",
   "name": "python3"
  },
  "language_info": {
   "codemirror_mode": {
    "name": "ipython",
    "version": 3
   },
   "file_extension": ".py",
   "mimetype": "text/x-python",
   "name": "python",
   "nbconvert_exporter": "python",
   "pygments_lexer": "ipython3",
   "version": "3.8.5"
  }
 },
 "nbformat": 4,
 "nbformat_minor": 4
}

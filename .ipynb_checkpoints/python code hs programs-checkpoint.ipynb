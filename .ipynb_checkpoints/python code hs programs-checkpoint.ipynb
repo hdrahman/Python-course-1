{
 "cells": [
  {
   "cell_type": "code",
   "execution_count": 3,
   "metadata": {},
   "outputs": [
    {
     "name": "stdout",
     "output_type": "stream",
     "text": [
      "Hello\n",
      "1234\n"
     ]
    }
   ],
   "source": [
    "#Make Some Variables!\n",
    "string = \"Hello\"\n",
    "integer = 1234\n",
    "\n",
    "print (string)\n",
    "print (integer)"
   ]
  },
  {
   "cell_type": "code",
   "execution_count": null,
   "metadata": {},
   "outputs": [],
   "source": [
    "#introduce your self\n",
    "\n",
    "print(\"My name is Haamed.\")\n",
    "print(\"I like writing python programs\")"
   ]
  },
  {
   "cell_type": "code",
   "execution_count": null,
   "metadata": {},
   "outputs": [],
   "source": [
    "#Undefined Variables\n",
    "\n",
    "a = 10\n",
    "print a\n",
    "\n",
    "b = 20\n",
    "print b\n",
    "\n",
    "c = b\n",
    "print c\n",
    "\n",
    "d = a + b\n",
    "print d\n",
    "\n",
    "f = 50\n",
    "\n",
    "e = f + d\n",
    "print e"
   ]
  },
  {
   "cell_type": "code",
   "execution_count": null,
   "metadata": {},
   "outputs": [],
   "source": [
    "# Hello <name>\n",
    "\n",
    "user_name = input(\"Enter your name: \")\n",
    "print \"Hello\"\n",
    "print user_name"
   ]
  },
  {
   "cell_type": "code",
   "execution_count": null,
   "metadata": {},
   "outputs": [],
   "source": [
    "#age\n",
    "\n",
    "age = int(input(\"please enter your current age\"))\n",
    "print \"You will need this many candles for your birthday cake:\"\n",
    "print age + 1"
   ]
  },
  {
   "cell_type": "code",
   "execution_count": null,
   "metadata": {},
   "outputs": [],
   "source": [
    "#Rectangle\n",
    "length = 10\n",
    "width = 5\n",
    "print length * width\n",
    "print (length + width) * 2"
   ]
  },
  {
   "cell_type": "code",
   "execution_count": null,
   "metadata": {},
   "outputs": [],
   "source": [
    "# The following program prints 22. Add a single pair of parentheses to make it print 38 instead!\n",
    "\n",
    "print 2 + 3 * (4 + 8)"
   ]
  },
  {
   "cell_type": "code",
   "execution_count": null,
   "metadata": {},
   "outputs": [],
   "source": [
    "'''\n",
    "Write a program that:\n",
    "stores your name in one variable called name\n",
    "stores your age in another variable called age\n",
    "prints a one-line greeting that includes your name and your age.\n",
    "'''\n",
    "\n",
    "name = input(\"Enter your name: \")\n",
    "age = input(\"enter your age: \")\n",
    "\n",
    "print \"Hi! My name is \" + name + \" and I am \" + str(age) + \" years old.\""
   ]
  },
  {
   "cell_type": "code",
   "execution_count": null,
   "metadata": {},
   "outputs": [],
   "source": [
    "\"\"\"\n",
    "Take your code from the Rectangle exercise in the last lesson, and change it so that the user gets to type the length and width of the rectangle. You can find your rectangle program here!\n",
    "\n",
    "As with the exercise in the last lesson, you will need two variables, one called length and one called width. In this exercise, you will need to make a call to input for each of these \n",
    "variables. Then, write some mathematical expressions in print statements to display the area and perimeter of the rectangle.\n",
    "\"\"\"\n",
    "\n",
    "length = int(input(\"What is the length?: \"))\n",
    "width = int(input(\"What is the width?: \"))\n",
    "area = length * width\n",
    "Perimeter = (length + width) * 2\n",
    "\n",
    "print(\"area: \" + str(area))\n",
    "print(\"Perimeter: \" + str(Perimeter))"
   ]
  },
  {
   "cell_type": "code",
   "execution_count": null,
   "metadata": {},
   "outputs": [],
   "source": []
  },
  {
   "cell_type": "code",
   "execution_count": null,
   "metadata": {},
   "outputs": [],
   "source": []
  },
  {
   "cell_type": "code",
   "execution_count": null,
   "metadata": {},
   "outputs": [],
   "source": []
  }
 ],
 "metadata": {
  "anaconda-cloud": {},
  "kernelspec": {
   "display_name": "Python 3",
   "language": "python",
   "name": "python3"
  },
  "language_info": {
   "codemirror_mode": {
    "name": "ipython",
    "version": 3
   },
   "file_extension": ".py",
   "mimetype": "text/x-python",
   "name": "python",
   "nbconvert_exporter": "python",
   "pygments_lexer": "ipython3",
   "version": "3.7.6"
  }
 },
 "nbformat": 4,
 "nbformat_minor": 4
}
